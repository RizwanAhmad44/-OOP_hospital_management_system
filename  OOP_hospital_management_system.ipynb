{
 "cells": [
  {
   "cell_type": "code",
   "execution_count": 4,
   "id": "d6403ff5-cb86-4b26-aacb-9f3b044baacc",
   "metadata": {},
   "outputs": [],
   "source": [
    "# Base class for Person\n",
    "class Person:\n",
    "    def __init__(self, name, age, contact):\n",
    "        self.name = name\n",
    "        self.age = age\n",
    "        self.contact = contact\n",
    "\n",
    "    def display_info(self):\n",
    "        print(f\"Name: {self.name}, Age: {self.age}, Contact: {self.contact}\")"
   ]
  },
  {
   "cell_type": "code",
   "execution_count": 5,
   "id": "7a893cde-7b74-4824-ae53-c2bc972648bc",
   "metadata": {},
   "outputs": [],
   "source": [
    "\n",
    "# Class for Patient inheriting from Person\n",
    "class Patient(Person):\n",
    "    def __init__(self, name, age, contact, patient_id):\n",
    "        super().__init__(name, age, contact)\n",
    "        self.patient_id = patient_id\n",
    "        self.is_admitted = False\n",
    "\n",
    "    def admit(self):\n",
    "        self.is_admitted = True\n",
    "        print(f\"Patient {self.name} has been admitted.\")\n",
    "\n",
    "    def discharge(self):\n",
    "        self.is_admitted = False\n",
    "        print(f\"Patient {self.name} has been discharged.\")\n",
    "\n",
    "    def display_info(self):\n",
    "        super().display_info()\n",
    "        status = \"Admitted\" if self.is_admitted else \"Not Admitted\"\n",
    "        print(f\"Patient ID: {self.patient_id}, Status: {status}\")"
   ]
  },
  {
   "cell_type": "code",
   "execution_count": 6,
   "id": "9ff5ba70-d0c9-47d2-9e45-86879a9d2741",
   "metadata": {},
   "outputs": [],
   "source": [
    "\n",
    "# Class for Doctor inheriting from Person\n",
    "class Doctor(Person):\n",
    "    def __init__(self, name, age, contact, specialty):\n",
    "        super().__init__(name, age, contact)\n",
    "        self.specialty = specialty\n",
    "\n",
    "    def display_info(self):\n",
    "        super().display_info()\n",
    "        print(f\"Specialty: {self.specialty}\")"
   ]
  },
  {
   "cell_type": "code",
   "execution_count": 7,
   "id": "cda52576-a978-4ba9-9673-7f9054026b44",
   "metadata": {},
   "outputs": [],
   "source": [
    "# Class for Hospital Management System\n",
    "class Hospital:\n",
    "    def __init__(self, name):\n",
    "        self.name = name\n",
    "        self.patients = []\n",
    "        self.doctors = []\n",
    "\n",
    "    def add_patient(self, patient):\n",
    "        self.patients.append(patient)\n",
    "        print(f\"Patient {patient.name} added to the hospital.\")\n",
    "\n",
    "    def add_doctor(self, doctor):\n",
    "        self.doctors.append(doctor)\n",
    "        print(f\"Doctor {doctor.name} added to the hospital.\")\n",
    "\n",
    "    def show_patients(self):\n",
    "        print(\"\\nPatients in the hospital:\")\n",
    "        for patient in self.patients:\n",
    "            patient.display_info()\n",
    "\n",
    "    def show_doctors(self):\n",
    "        print(\"\\nDoctors in the hospital:\")\n",
    "        for doctor in self.doctors:\n",
    "            doctor.display_info()\n"
   ]
  },
  {
   "cell_type": "code",
   "execution_count": 8,
   "id": "198e774b-da43-428f-9e0c-1d093b75d26e",
   "metadata": {},
   "outputs": [
    {
     "name": "stdout",
     "output_type": "stream",
     "text": [
      "\n",
      "Welcome to the Hospital Management System\n",
      "1. Add Patient\n",
      "2. Add Doctor\n",
      "3. Show Patients\n",
      "4. Show Doctors\n",
      "5. Admit Patient\n",
      "6. Discharge Patient\n",
      "7. Exit\n"
     ]
    },
    {
     "name": "stdin",
     "output_type": "stream",
     "text": [
      "Choose an option:  1\n",
      "Enter patient's name:  Ali\n",
      "Enter patient's age:  24\n",
      "Enter patient's contact:  03234655\n",
      "Enter patient ID:  1256\n"
     ]
    },
    {
     "name": "stdout",
     "output_type": "stream",
     "text": [
      "Patient Ali added to the hospital.\n",
      "\n",
      "Welcome to the Hospital Management System\n",
      "1. Add Patient\n",
      "2. Add Doctor\n",
      "3. Show Patients\n",
      "4. Show Doctors\n",
      "5. Admit Patient\n",
      "6. Discharge Patient\n",
      "7. Exit\n"
     ]
    },
    {
     "name": "stdin",
     "output_type": "stream",
     "text": [
      "Choose an option:  2\n",
      "Enter doctor's name:  Hamza\n",
      "Enter doctor's age:  35\n",
      "Enter doctor's contact:  0324546487\n",
      "Enter doctor's specialty:  Heart\n"
     ]
    },
    {
     "name": "stdout",
     "output_type": "stream",
     "text": [
      "Doctor Hamza added to the hospital.\n",
      "\n",
      "Welcome to the Hospital Management System\n",
      "1. Add Patient\n",
      "2. Add Doctor\n",
      "3. Show Patients\n",
      "4. Show Doctors\n",
      "5. Admit Patient\n",
      "6. Discharge Patient\n",
      "7. Exit\n"
     ]
    },
    {
     "name": "stdin",
     "output_type": "stream",
     "text": [
      "Choose an option:  3\n"
     ]
    },
    {
     "name": "stdout",
     "output_type": "stream",
     "text": [
      "\n",
      "Patients in the hospital:\n",
      "Name: Ali, Age: 24, Contact: 03234655\n",
      "Patient ID: 1256, Status: Not Admitted\n",
      "\n",
      "Welcome to the Hospital Management System\n",
      "1. Add Patient\n",
      "2. Add Doctor\n",
      "3. Show Patients\n",
      "4. Show Doctors\n",
      "5. Admit Patient\n",
      "6. Discharge Patient\n",
      "7. Exit\n"
     ]
    },
    {
     "name": "stdin",
     "output_type": "stream",
     "text": [
      "Choose an option:  4\n"
     ]
    },
    {
     "name": "stdout",
     "output_type": "stream",
     "text": [
      "\n",
      "Doctors in the hospital:\n",
      "Name: Hamza, Age: 35, Contact: 0324546487\n",
      "Specialty: Heart\n",
      "\n",
      "Welcome to the Hospital Management System\n",
      "1. Add Patient\n",
      "2. Add Doctor\n",
      "3. Show Patients\n",
      "4. Show Doctors\n",
      "5. Admit Patient\n",
      "6. Discharge Patient\n",
      "7. Exit\n"
     ]
    },
    {
     "name": "stdin",
     "output_type": "stream",
     "text": [
      "Choose an option:  5\n",
      "Enter patient ID to admit:  42654\n"
     ]
    },
    {
     "name": "stdout",
     "output_type": "stream",
     "text": [
      "Patient not found.\n",
      "\n",
      "Welcome to the Hospital Management System\n",
      "1. Add Patient\n",
      "2. Add Doctor\n",
      "3. Show Patients\n",
      "4. Show Doctors\n",
      "5. Admit Patient\n",
      "6. Discharge Patient\n",
      "7. Exit\n"
     ]
    },
    {
     "name": "stdin",
     "output_type": "stream",
     "text": [
      "Choose an option:  6\n",
      "Enter patient ID to discharge:  1256\n"
     ]
    },
    {
     "name": "stdout",
     "output_type": "stream",
     "text": [
      "Patient Ali has been discharged.\n",
      "\n",
      "Welcome to the Hospital Management System\n",
      "1. Add Patient\n",
      "2. Add Doctor\n",
      "3. Show Patients\n",
      "4. Show Doctors\n",
      "5. Admit Patient\n",
      "6. Discharge Patient\n",
      "7. Exit\n"
     ]
    },
    {
     "name": "stdin",
     "output_type": "stream",
     "text": [
      "Choose an option:  7\n"
     ]
    },
    {
     "name": "stdout",
     "output_type": "stream",
     "text": [
      "Exiting the system. Goodbye!\n"
     ]
    }
   ],
   "source": [
    "# Main program loop\n",
    "if __name__ == \"__main__\":\n",
    "    hospital = Hospital(\"City Hospital\")\n",
    "\n",
    "    while True:\n",
    "        print(\"\\nWelcome to the Hospital Management System\")\n",
    "        print(\"1. Add Patient\")\n",
    "        print(\"2. Add Doctor\")\n",
    "        print(\"3. Show Patients\")\n",
    "        print(\"4. Show Doctors\")\n",
    "        print(\"5. Admit Patient\")\n",
    "        print(\"6. Discharge Patient\")\n",
    "        print(\"7. Exit\")\n",
    "\n",
    "        choice = int(input(\"Choose an option: \"))\n",
    "\n",
    "        if choice == 1:\n",
    "            name = input(\"Enter patient's name: \")\n",
    "            age = int(input(\"Enter patient's age: \"))\n",
    "            contact = input(\"Enter patient's contact: \")\n",
    "            patient_id = input(\"Enter patient ID: \")\n",
    "            new_patient = Patient(name, age, contact, patient_id)\n",
    "            hospital.add_patient(new_patient)\n",
    "\n",
    "        elif choice == 2:\n",
    "            name = input(\"Enter doctor's name: \")\n",
    "            age = int(input(\"Enter doctor's age: \"))\n",
    "            contact = input(\"Enter doctor's contact: \")\n",
    "            specialty = input(\"Enter doctor's specialty: \")\n",
    "            new_doctor = Doctor(name, age, contact, specialty)\n",
    "            hospital.add_doctor(new_doctor)\n",
    "\n",
    "        elif choice == 3:\n",
    "            hospital.show_patients()\n",
    "\n",
    "        elif choice == 4:\n",
    "            hospital.show_doctors()\n",
    "\n",
    "        elif choice == 5:\n",
    "            patient_id = input(\"Enter patient ID to admit: \")\n",
    "            for patient in hospital.patients:\n",
    "                if patient.patient_id == patient_id:\n",
    "                    patient.admit()\n",
    "                    break\n",
    "            else:\n",
    "                print(\"Patient not found.\")\n",
    "\n",
    "        elif choice == 6:\n",
    "            patient_id = input(\"Enter patient ID to discharge: \")\n",
    "            for patient in hospital.patients:\n",
    "                if patient.patient_id == patient_id:\n",
    "                    patient.discharge()\n",
    "                    break\n",
    "            else:\n",
    "                print(\"Patient not found.\")\n",
    "\n",
    "        elif choice == 7:\n",
    "            print(\"Exiting the system. Goodbye!\")\n",
    "            break\n",
    "\n",
    "        else:\n",
    "            print(\"Invalid option. Please try again.\")"
   ]
  }
 ],
 "metadata": {
  "kernelspec": {
   "display_name": "Python 3 (ipykernel)",
   "language": "python",
   "name": "python3"
  },
  "language_info": {
   "codemirror_mode": {
    "name": "ipython",
    "version": 3
   },
   "file_extension": ".py",
   "mimetype": "text/x-python",
   "name": "python",
   "nbconvert_exporter": "python",
   "pygments_lexer": "ipython3",
   "version": "3.11.7"
  }
 },
 "nbformat": 4,
 "nbformat_minor": 5
}
